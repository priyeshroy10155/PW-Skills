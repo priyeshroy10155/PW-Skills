{
 "cells": [
  {
   "cell_type": "markdown",
   "id": "f0153e7c",
   "metadata": {},
   "source": [
    "### what are the charectrest of tuples?is Tuples immutable?\n",
    "Python Tuple is a collection of objects separated by commas. In some ways, a tuple is similar to a list in terms of indexing, nested objects, and repetition but a tuple is immutable, unlike lists which are mutable.\n",
    "Yes Tuple is immutable."
   ]
  },
  {
   "cell_type": "markdown",
   "id": "f93a209e",
   "metadata": {},
   "source": [
    "### What are the two tuple method in python ? Give a example of each method. Give a reason why tuples have only two in-built methods as compared to lists.\n",
    "1. Count() Method:The count() method of Tuple returns the number of times the given element appears in the tuple.\n",
    "2. Index() Method: The Index() method returns the first occurrence of the given element from the tuple."
   ]
  },
  {
   "cell_type": "code",
   "execution_count": 2,
   "id": "69da2b77",
   "metadata": {},
   "outputs": [
    {
     "name": "stdout",
     "output_type": "stream",
     "text": [
      "2\n"
     ]
    }
   ],
   "source": [
    "#Count\n",
    "t=(1,2,3,4,8,2,9,5,1,3)\n",
    "print(t.count(2))"
   ]
  },
  {
   "cell_type": "code",
   "execution_count": 3,
   "id": "7de2cd77",
   "metadata": {},
   "outputs": [
    {
     "name": "stdout",
     "output_type": "stream",
     "text": [
      "6\n"
     ]
    }
   ],
   "source": [
    "#Index\n",
    "t=(1,2,3,4,8,2,9,5,1,3)\n",
    "print(t.index(9))"
   ]
  },
  {
   "cell_type": "markdown",
   "id": "b38a8ed4",
   "metadata": {},
   "source": [
    "### Which collection in data type python do not allow duplicate items? write a code using a set to remove duplicates from given list.\n",
    "data_type = set"
   ]
  },
  {
   "cell_type": "code",
   "execution_count": 8,
   "id": "05bfe88b",
   "metadata": {},
   "outputs": [
    {
     "data": {
      "text/plain": [
       "{1, 2, 3, 4}"
      ]
     },
     "execution_count": 8,
     "metadata": {},
     "output_type": "execute_result"
    }
   ],
   "source": [
    "list=[1,1,1,2,1,3,1,4,2,2,2,2,3,2,4,3,1,3,2,3,3,3,4,4,1,4,2,4,3,4,4]\n",
    "set(list)"
   ]
  },
  {
   "cell_type": "markdown",
   "id": "08c6374a",
   "metadata": {},
   "source": [
    "### Difference between union() and update() for a set. by a example.\n",
    "The union of two sets X and Y is equal to the set of elements that are present in set X, in set Y, or in both the sets X and Y. \n",
    "* Update:Definition and Usage The update () method updates the current set, by adding items from another set (or any other iterable). If an item is present in both sets, only one appearance of this item will be present in the updated set.\n"
   ]
  },
  {
   "cell_type": "code",
   "execution_count": 18,
   "id": "242aec34",
   "metadata": {},
   "outputs": [
    {
     "name": "stdout",
     "output_type": "stream",
     "text": [
      "{1, 2, 3, 4, 5, 6, 7, 8, 9, 44}\n",
      "{1, 2, 3, 4, 5, 6, 7, 8, 9, 44}\n"
     ]
    }
   ],
   "source": [
    "a={1,2,3,4,5,6}\n",
    "b={5,6,7,8,9,1,2,44}\n",
    "c=a.union(b)# made another set\n",
    "print(c)\n",
    "a.update(b) # Modifi set a\n",
    "print(a)"
   ]
  },
  {
   "cell_type": "markdown",
   "id": "8cce780a",
   "metadata": {},
   "source": [
    "### What is dictionary? Give an example. Also, state weather a dictionary is ordered or unordered.\n",
    "Dictionary in Python is a collection of keys values, used to store data values like a map, which, unlike other data types which hold only a single value as an element.\n",
    "Example of Dictionary in Python \n",
    "Dictionary holds key:value pair. Key-Value is provided in the dictionary to make it more optimized. \n",
    "\n",
    "In Python, a dictionary can be created by placing a sequence of elements within curly {} braces, separated by ‘comma’. Dictionary holds pairs of values, one being the Key and the other corresponding pair element being its Key:value. Values in a dictionary can be of any data type and can be duplicated, whereas keys can’t be repeated and must be immutable. \n",
    "\n",
    "Note – Dictionary keys are case sensitive, the same name but different cases of Key will be treated distinctly. \n",
    "\n",
    "Python dictionary is an unordered data collaction."
   ]
  },
  {
   "cell_type": "markdown",
   "id": "ec440229",
   "metadata": {},
   "source": [
    "### Can we create a nested dictionry?\n",
    "yes"
   ]
  },
  {
   "cell_type": "code",
   "execution_count": 21,
   "id": "ce7e65af",
   "metadata": {},
   "outputs": [
    {
     "data": {
      "text/plain": [
       "dict"
      ]
     },
     "execution_count": 21,
     "metadata": {},
     "output_type": "execute_result"
    }
   ],
   "source": [
    "D={'key':{'s':'qwer'}}\n",
    "type(D)"
   ]
  },
  {
   "cell_type": "markdown",
   "id": "187c1eba",
   "metadata": {},
   "source": [
    "### Using setdefault() method:"
   ]
  },
  {
   "cell_type": "code",
   "execution_count": 30,
   "id": "57f82b0e",
   "metadata": {},
   "outputs": [
    {
     "name": "stdout",
     "output_type": "stream",
     "text": [
      "{'language': 'python', 'Course': 'DSM', 'topics': ['Python', 'ML', 'DL']}\n"
     ]
    }
   ],
   "source": [
    "dict1={'language':'python','Course':'DSM'}\n",
    "dict1.setdefault('topics',['Python','ML','DL'])\n",
    "print(dict1)"
   ]
  },
  {
   "cell_type": "code",
   "execution_count": 34,
   "id": "26b94968",
   "metadata": {},
   "outputs": [
    {
     "name": "stdout",
     "output_type": "stream",
     "text": [
      "cricket\n"
     ]
    }
   ],
   "source": [
    "dict={'sport':'cricket','Teams':['india','australia']}\n",
    "print(dict['sport'])"
   ]
  },
  {
   "cell_type": "code",
   "execution_count": null,
   "id": "48e84c15",
   "metadata": {},
   "outputs": [],
   "source": []
  }
 ],
 "metadata": {
  "kernelspec": {
   "display_name": "Python 3 (ipykernel)",
   "language": "python",
   "name": "python3"
  },
  "language_info": {
   "codemirror_mode": {
    "name": "ipython",
    "version": 3
   },
   "file_extension": ".py",
   "mimetype": "text/x-python",
   "name": "python",
   "nbconvert_exporter": "python",
   "pygments_lexer": "ipython3",
   "version": "3.9.7"
  }
 },
 "nbformat": 4,
 "nbformat_minor": 5
}
