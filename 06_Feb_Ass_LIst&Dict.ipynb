{
 "cells": [
  {
   "cell_type": "markdown",
   "id": "790c3774",
   "metadata": {},
   "source": [
    "### Q1. Create a function which will take a list as an argument and return the product of all the numbers after creating a flat list.Use the below-given list as an argument for your function.\n",
    "list1 = [1,2,3,4, [44,55,66, True], False, (34,56,78,89,34), {1,2,3,3,2,1}, {1:34, \"key2\": [55, 67, 78, 89], 4: (45, \n",
    "22, 61, 34)}, [56, 'data science'], 'Machine Learning']\n",
    "* Note: you must extract numeric keys and values of the dictionary also."
   ]
  },
  {
   "cell_type": "code",
   "execution_count": 1,
   "id": "a4d1314b",
   "metadata": {},
   "outputs": [],
   "source": [
    "l=[1,2,3,4,[44,55,66,True],False,(34,56,78,89,34),{1,2,3,3,2,1},{1:34,'key2':[55,67,78,89],4:(45,22,61,34)},[56,'data science'],'Machine learing']"
   ]
  },
  {
   "cell_type": "code",
   "execution_count": 2,
   "id": "34eb766b",
   "metadata": {},
   "outputs": [],
   "source": [
    "def test(l):\n",
    "    a=[]\n",
    "    for i in l:\n",
    "        if (type(i)==list):\n",
    "            for j in i:\n",
    "                if type(j)==int or type(j)==float:\n",
    "                    a.append(j)\n",
    "        elif (type(i)==tuple):\n",
    "            for k in i:\n",
    "                if type(k)==int or type(k)==float:\n",
    "                    a.append(k)\n",
    "        elif (type(i)==set):\n",
    "            for n in i:\n",
    "                if type(n)==int or type(n)==float:\n",
    "                    a.append(n)\n",
    "        elif (type(i)==dict):\n",
    "            #return i   \n",
    "            print('dict:',i)\n",
    "        else:\n",
    "            if type(i)==int or type(i)==float:\n",
    "                a.append(i)\n",
    "    return a\n",
    "\n"
   ]
  },
  {
   "cell_type": "code",
   "execution_count": 3,
   "id": "1aa6b38b",
   "metadata": {},
   "outputs": [
    {
     "name": "stdout",
     "output_type": "stream",
     "text": [
      "dict: {1: 34, 'key2': [55, 67, 78, 89], 4: (45, 22, 61, 34)}\n"
     ]
    }
   ],
   "source": [
    "a=test(l)"
   ]
  },
  {
   "cell_type": "code",
   "execution_count": 4,
   "id": "74e67f55",
   "metadata": {},
   "outputs": [
    {
     "name": "stdout",
     "output_type": "stream",
     "text": [
      "list: [1, 2, 3, 4, 44, 55, 66, 34, 56, 78, 89, 34, 1, 2, 3, 56]\n",
      "multiplication: 578815684656168960\n"
     ]
    }
   ],
   "source": [
    "print('list:',a)\n",
    "mul=1\n",
    "for m in a:\n",
    "    \n",
    "    mul=mul*m\n",
    "print('multiplication:',mul)"
   ]
  },
  {
   "cell_type": "markdown",
   "id": "391987ee",
   "metadata": {},
   "source": [
    "### Q2. Write a python program for encrypting a message sent to you by your friend. The logic of encryption should be such that, for a the output should be z. For b, the output should be y. For c, the output should be x respectively. Also, the whitespace should be replaced with a dollar sign. Keep the punctuation marks unchanged.\n",
    "* Input Sentence: I want to become a Data Scientist.\n",
    "* Encrypt the above input sentence using the program you just created.\n",
    "* Note: Convert the given input sentence into lowercase before encrypting. The final output should be lowercase"
   ]
  },
  {
   "cell_type": "code",
   "execution_count": 5,
   "id": "e03e28cf",
   "metadata": {},
   "outputs": [],
   "source": [
    "d={'a':'z','b':'y','c':'x','d':'w','e':'v','f':'u','g':'t','h':'s','i':'r','j':'q','k':'p','l':'o','m':'n','n':'m','o':'l','p':'k','q':'j','r':'i','s':'h','t':'g','u':'f','v':'e','w':'d','x':'c','y':'b','z':'a',' ':'$','.':'.'}"
   ]
  },
  {
   "cell_type": "code",
   "execution_count": 6,
   "id": "168b5fbd",
   "metadata": {},
   "outputs": [
    {
     "name": "stdout",
     "output_type": "stream",
     "text": [
      "i want to become a data scientist.\n",
      "r$dzmg$gl$yvxlnv$z$wzgz$hxrvmgrhg."
     ]
    }
   ],
   "source": [
    "s='I want to become a Data Scientist.'\n",
    "s1=s.lower()\n",
    "print(s1)\n",
    "l1=[]\n",
    "for i in s1:\n",
    "    l1.append(d[i])\n",
    "for j in l1:\n",
    "    print(j,end='')"
   ]
  },
  {
   "cell_type": "code",
   "execution_count": null,
   "id": "14ea751c",
   "metadata": {},
   "outputs": [],
   "source": []
  }
 ],
 "metadata": {
  "kernelspec": {
   "display_name": "Python 3 (ipykernel)",
   "language": "python",
   "name": "python3"
  },
  "language_info": {
   "codemirror_mode": {
    "name": "ipython",
    "version": 3
   },
   "file_extension": ".py",
   "mimetype": "text/x-python",
   "name": "python",
   "nbconvert_exporter": "python",
   "pygments_lexer": "ipython3",
   "version": "3.9.7"
  }
 },
 "nbformat": 4,
 "nbformat_minor": 5
}
