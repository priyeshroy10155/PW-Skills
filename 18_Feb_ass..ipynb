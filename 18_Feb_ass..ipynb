{
 "cells": [
  {
   "cell_type": "markdown",
   "id": "34561216",
   "metadata": {},
   "source": [
    "##  What is an API? Give an example, where an API is used in real life\n",
    "Ever asked “what does API mean?” API is acronymous for “application programming interface.” It’s the underlying link between apps that allows them to work together. \n",
    "The API lets one application use the services offered by another app or platform without seeing its codebase. This allows developers to offer their services up to a broader audience without divulging their secrets! \n",
    "Example of API\n",
    "witter, Hacker News, GitHub, or other forums"
   ]
  },
  {
   "cell_type": "markdown",
   "id": "cd88ad21",
   "metadata": {},
   "source": [
    "## Q2. Give advantages and disadvantages of using API.\n",
    "An API Gateways Provides flexibility to use completely independent protocols allowing your microservices to communicate among themselves with ease. They allow developers to access the functionality of a subset of architecture in many different ways, without ever exposing the endpoints publicly. It doesn’t matter if you are using microservices or serverless architecture or a public API, API Gateways have a lot of benefits to offer.\n",
    "\n",
    "There are lots of reasons for use and API Gateway but there are certain drawbacks that you should consider.\n",
    "There’s a learning curve when it comes to architecting applications high availability applications at scale especially since the API gateway is going to be the single point on of entry between the front end and the APIs it will also act as a single point of failure."
   ]
  },
  {
   "cell_type": "markdown",
   "id": "3a8560c7",
   "metadata": {},
   "source": [
    "## Q3. What is a Web API? Differentiate between API and Web API.\n",
    "Key Differences between API and Web Services\n",
    "Web service is a collection of open source protocols and standards used for exchanging data between systems or applications, whereas API is a software interface that allows two applications to interact with each other without any user involvement.\n",
    "Web service is used for REST, SOAP, and XML-RPC for communication, while API is used for any style of communication.\n",
    "Web service supports only HTTP protocol, whereas API supports HTTP/HTTPS protocol.\n",
    "Web service supports XML, while API supports XML and JSON.\n",
    "All Web services are APIs, but all APIs are not web services."
   ]
  },
  {
   "cell_type": "markdown",
   "id": "97c9ee8a",
   "metadata": {},
   "source": [
    "## Q4. Explain REST and SOAP Architecture. Mention shortcomings of SOAP.\n",
    "SOAP stands for Simple Object Access Protocol is a network platform used in a web service to exchange or communicate data between two different machines on a network. It uses the XML format of data to transfer messages over the HTTP protocol. In Web services, SOAP allows the user request to interact with other programming languages. In this way, it provides a way to communicate between applications running on different platforms (Operating system), with programming languages and technologies used in web service.\n",
    "\n",
    "REST stands for REpresentational State Transfer. It is an architectural style that provides standards between computer systems on a web service. It is a set of constraints used to create a lightweight, scalable, and maintainable web service that facilitates easy communication. It is a set of constraints used to create a lightweight, scalable and maintainable web service that makes easy communication with each other. All web services are based on the REST; hence it is called a RESTful service. The purpose of developing a RESTful web service is to make the web service more effective. The Roy Fielding develops it in 2000, who also developed the HTTP protocol. It does not depend on a specific protocol to use, but it's used HTTP/HTTPS."
   ]
  },
  {
   "cell_type": "markdown",
   "id": "c492f453",
   "metadata": {},
   "source": [
    "## Q5. Differentiate between REST and SOAP.\n",
    "SOAP\tREST\n",
    "1)\tSOAP is a protocol.\tREST is an architectural style.\n",
    "2)\tSOAP stands for Simple Object Access Protocol.\tREST stands for REpresentational State Transfer.\n",
    "3)\tSOAP can't use REST because it is a protocol.\tREST can use SOAP web services because it is a concept and can use any protocol like HTTP, SOAP.\n",
    "4)\tSOAP uses services interfaces to expose the business logic.\tREST uses URI to expose business logic.\n",
    "5)\tJAX-WS is the java API for SOAP web services.\tJAX-RS is the java API for RESTful web services.\n",
    "6)\tSOAP defines standards to be strictly followed.\tREST does not define too much standards like SOAP.\n",
    "7)\tSOAP requires more bandwidth and resource than REST.\tREST requires less bandwidth and resource than SOAP.\n",
    "8)\tSOAP defines its own security.\tRESTful web services inherits security measures from the underlying transport.\n",
    "9)\tSOAP permits XML data format only.\tREST permits different data format such as Plain text, HTML, XML, JSON etc.\n",
    "10)\tSOAP is less preferred than REST.\tREST more preferred than SOAP."
   ]
  },
  {
   "cell_type": "code",
   "execution_count": null,
   "id": "98e55e0e",
   "metadata": {},
   "outputs": [],
   "source": []
  }
 ],
 "metadata": {
  "kernelspec": {
   "display_name": "Python 3 (ipykernel)",
   "language": "python",
   "name": "python3"
  },
  "language_info": {
   "codemirror_mode": {
    "name": "ipython",
    "version": 3
   },
   "file_extension": ".py",
   "mimetype": "text/x-python",
   "name": "python",
   "nbconvert_exporter": "python",
   "pygments_lexer": "ipython3",
   "version": "3.9.7"
  }
 },
 "nbformat": 4,
 "nbformat_minor": 5
}
