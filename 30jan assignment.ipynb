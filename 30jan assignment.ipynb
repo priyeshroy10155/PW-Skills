{
 "cells": [
  {
   "cell_type": "markdown",
   "id": "a896c5b9",
   "metadata": {},
   "source": [
    "### Program for Percentage"
   ]
  },
  {
   "cell_type": "code",
   "execution_count": 1,
   "id": "0e116a6a",
   "metadata": {},
   "outputs": [
    {
     "name": "stdout",
     "output_type": "stream",
     "text": [
      "Enter the value of percentage20\n",
      "D\n"
     ]
    }
   ],
   "source": [
    "per=float(input(\"Enter the value of percentage\"))\n",
    "if per>90: print(\"A\")\n",
    "elif per<=90 and per>80: print(\"B\")\n",
    "elif per<=80 and per>=60: print(\"C\")\n",
    "else: print('D')"
   ]
  },
  {
   "cell_type": "markdown",
   "id": "82b83698",
   "metadata": {},
   "source": [
    "### Tex on cost price on bike"
   ]
  },
  {
   "cell_type": "code",
   "execution_count": 2,
   "id": "e252393e",
   "metadata": {},
   "outputs": [
    {
     "name": "stdout",
     "output_type": "stream",
     "text": [
      "Enter cost_price: 400000\n",
      "tex= 60000.0\n"
     ]
    }
   ],
   "source": [
    "cost_price=int(input('Enter cost_price: '))\n",
    "if cost_price>100000:\n",
    "    print('tex=',cost_price*0.15)\n",
    "elif cost_price<=100000 and cost_price>50000:\n",
    "    print('tex=',cost_price*0.1)\n",
    "else:\n",
    "    print('tex=',cost_price*0.05)"
   ]
  },
  {
   "cell_type": "markdown",
   "id": "c6b324ae",
   "metadata": {},
   "source": [
    "### City and monuments"
   ]
  },
  {
   "cell_type": "code",
   "execution_count": 3,
   "id": "b9c9fbe4",
   "metadata": {},
   "outputs": [
    {
     "name": "stdout",
     "output_type": "stream",
     "text": [
      "city_nameDelhi\n",
      "Red fort\n"
     ]
    }
   ],
   "source": [
    "city=input('city_name')\n",
    "D={'Delhi':'Red fort','Agra':'Taj Mahal','Jaipur':'Jai Mahal'}\n",
    "print(D[city])"
   ]
  },
  {
   "cell_type": "markdown",
   "id": "d7958bd5",
   "metadata": {},
   "source": [
    "### Check how many times a given no. divided by 3 before it less than or equal to 10."
   ]
  },
  {
   "cell_type": "code",
   "execution_count": 4,
   "id": "e59f9c84",
   "metadata": {},
   "outputs": [
    {
     "name": "stdout",
     "output_type": "stream",
     "text": [
      "Enter number:7\n",
      "2\n"
     ]
    }
   ],
   "source": [
    "num=int(input('Enter number:'))\n",
    "if num<=10:\n",
    "    a=num//3\n",
    "    print(a)\n",
    "else:\n",
    "    print('num grater than 10')"
   ]
  },
  {
   "cell_type": "markdown",
   "id": "d1efb41e",
   "metadata": {},
   "source": [
    "### why and when to used while loop in python give a detalled description with example?\n",
    "Python While Loop is used to execute a block of statements repeatedly until a given condition is satisfied. And when the condition becomes false, the line immediately after the loop in the program is executed."
   ]
  },
  {
   "cell_type": "markdown",
   "id": "4d3a625c",
   "metadata": {},
   "source": [
    "### Used nested while loop to print 3 different pattern"
   ]
  },
  {
   "cell_type": "code",
   "execution_count": 12,
   "id": "02cb4e28",
   "metadata": {},
   "outputs": [
    {
     "name": "stdout",
     "output_type": "stream",
     "text": [
      "Enter the value of n:8\n",
      "*\n",
      "**\n",
      "***\n",
      "****\n",
      "*****\n",
      "******\n",
      "*******\n",
      "********\n"
     ]
    }
   ],
   "source": [
    "n=int(input('Enter the value of n:'))\n",
    "i=0\n",
    "while (i< n):\n",
    "    i=i+1\n",
    "    j=0\n",
    "    while (j< i):\n",
    "        j=j+1\n",
    "        print('*',end='')\n",
    "    print('\\r')"
   ]
  },
  {
   "cell_type": "code",
   "execution_count": 13,
   "id": "65dee23c",
   "metadata": {},
   "outputs": [
    {
     "name": "stdout",
     "output_type": "stream",
     "text": [
      "n: 7\n",
      "      *\n",
      "     ***\n",
      "    *****\n",
      "   *******\n",
      "  *********\n",
      " ***********\n",
      "*************\n"
     ]
    }
   ],
   "source": [
    "num_row=int(input(\"n: \"))\n",
    "row=0\n",
    "while(row<num_row):\n",
    "    row+=1\n",
    "    s=num_row-row\n",
    "    sc=0\n",
    "    while(sc < s):\n",
    "        print(\" \",end='')\n",
    "        sc+=1\n",
    "    stars=2*row-1\n",
    "    while(stars>0):\n",
    "        print('*', end='')\n",
    "        stars-=1\n",
    "    print()"
   ]
  },
  {
   "cell_type": "code",
   "execution_count": 16,
   "id": "02d91507",
   "metadata": {},
   "outputs": [
    {
     "name": "stdout",
     "output_type": "stream",
     "text": [
      "Enter the value of n:7\n",
      "**\n",
      "***\n",
      "****\n",
      "*****\n",
      "******\n",
      "*******\n",
      "********\n"
     ]
    }
   ],
   "source": [
    "n=int(input('Enter the value of n:'))\n",
    "i=0\n",
    "while (i< n):\n",
    "    i=i+1\n",
    "    j=0\n",
    "    while (j< i+1):\n",
    "        j=j+1\n",
    "        print('*',end='')\n",
    "    print('\\r')"
   ]
  },
  {
   "cell_type": "markdown",
   "id": "4d8722e2",
   "metadata": {},
   "source": [
    "### Revwrse a while loop to display numbers fron 10 to 1."
   ]
  },
  {
   "cell_type": "code",
   "execution_count": 22,
   "id": "9334a22c",
   "metadata": {},
   "outputs": [
    {
     "name": "stdout",
     "output_type": "stream",
     "text": [
      "Enter number:10\n",
      "10\n",
      "9\n",
      "8\n",
      "7\n",
      "6\n",
      "5\n",
      "4\n",
      "3\n",
      "2\n",
      "1\n"
     ]
    }
   ],
   "source": [
    "i=int(input('Enter number:'))\n",
    "while (i>0):\n",
    "    print(i)\n",
    "    i-=1"
   ]
  },
  {
   "cell_type": "code",
   "execution_count": null,
   "id": "984a101f",
   "metadata": {},
   "outputs": [],
   "source": []
  }
 ],
 "metadata": {
  "kernelspec": {
   "display_name": "Python 3 (ipykernel)",
   "language": "python",
   "name": "python3"
  },
  "language_info": {
   "codemirror_mode": {
    "name": "ipython",
    "version": 3
   },
   "file_extension": ".py",
   "mimetype": "text/x-python",
   "name": "python",
   "nbconvert_exporter": "python",
   "pygments_lexer": "ipython3",
   "version": "3.9.7"
  }
 },
 "nbformat": 4,
 "nbformat_minor": 5
}
