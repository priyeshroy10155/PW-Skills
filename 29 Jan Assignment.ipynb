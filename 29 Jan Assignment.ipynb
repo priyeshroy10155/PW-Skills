{
 "cells": [
  {
   "cell_type": "markdown",
   "id": "5da76b10",
   "metadata": {},
   "source": [
    "## Assignment"
   ]
  },
  {
   "cell_type": "markdown",
   "id": "a5424340",
   "metadata": {},
   "source": [
    "### who develop python programming language?\n",
    "Python is a widely-used general-purpose , high level programing language. It wase initally developed by Guido van Rossum in 1991 and developed by python software foundation. Nitherlands."
   ]
  },
  {
   "cell_type": "markdown",
   "id": "e120cb08",
   "metadata": {},
   "source": [
    "### which type of programming doese python support?\n",
    "Python is a dynamic, high_level, free open source, and interpreted programing language. it support object-oriented programming as well as procedural-orinted progrimming. In Python, we don’t need to declare the type of variable because it is a dynamically typed language. For example, x = 10 Here, x can be anything such as String, int, etc."
   ]
  },
  {
   "cell_type": "markdown",
   "id": "fa528054",
   "metadata": {},
   "source": [
    "### Is Python case sensitive when dealing with identifiers?\n",
    "Identifier is a name used to identify a variable, function, class, module, etc. The identifier is a combination of character digits and underscore. The identifier should start with a character or Underscore then use a digit. The characters are A-Z or a-z, an Underscore ( _ ) , and digit (0-9). we should not use special characters ( #, @, $, %, ! ) in identifiers."
   ]
  },
  {
   "cell_type": "markdown",
   "id": "7b2ed910",
   "metadata": {},
   "source": [
    "### What is the correct extension of the python file?\n",
    "Get File Extension in Python we can use either of the two different approaches discussed below:\n",
    "\n",
    "  Use the os.path Module to Extract Extension From File in Python\n",
    "  Use the pathlib Module to Extract Extension From File in Python"
   ]
  },
  {
   "cell_type": "markdown",
   "id": "324baf48",
   "metadata": {},
   "source": [
    "### Is Python code compiled or interpreted?\n",
    "In various books of python programming, it is mentioned that python language is interpreted. But that is half correct the python program is first compiled and then interpreted. The compilation part is hidden from the programmer thus, many programmers believe that it is an interpreted language. The compilation part is done first when we execute our code and this will generate byte code and internally this byte code gets converted by the python virtual machine(p.v.m) according to the underlying platform(machine+operating system).\n",
    "Now the question is – if there is any proof that python first compiles the program internally and then run the code via interpreter?\n",
    "The answer is yes! and note this compiled part is get deleted by the python(as soon as you execute your code) just it does not want programmers to get into complexity."
   ]
  },
  {
   "cell_type": "markdown",
   "id": "4cbd5bc9",
   "metadata": {},
   "source": [
    "### State a character used to give single-line comments in python?\n",
    "by the help of #\n"
   ]
  },
  {
   "cell_type": "markdown",
   "id": "334b5bf0",
   "metadata": {},
   "source": [
    "### Mention function for find the versin of Python?\n",
    "python_version()"
   ]
  },
  {
   "cell_type": "markdown",
   "id": "06242c0a",
   "metadata": {},
   "source": [
    "###  What does pip stand for python?\n",
    "Python pip is the package manager for Python packages. We can use pip to install packages that do not come with Python. The basic syntax of pip commands in command prompt is: \n",
    "\n",
    "pip 'arguments'\n",
    "Python pip comes pre-installed on 3.4 or older versions of Python. To check whether pip is installed or not type the below command in the terminal.\n",
    "\n",
    "pip --version\n",
    "This command will tell the version of the pip if pip is already installed in the system."
   ]
  },
  {
   "cell_type": "markdown",
   "id": "988e4894",
   "metadata": {},
   "source": [
    "### Mention a few built-in function in python?\n",
    "In python lots of Built-in Function ex: bool,bytes,chr(),classmethod(),dict() etc."
   ]
  },
  {
   "cell_type": "markdown",
   "id": "8562f0c0",
   "metadata": {},
   "source": [
    "### What is the maximum possible length of an identifier in python?\n",
    "In Python, value of an integer is not restricted by the number of bits and can expand to the limit of the available memory"
   ]
  },
  {
   "cell_type": "markdown",
   "id": "1c3ee28c",
   "metadata": {},
   "source": [
    "###  What are the benefits of using python?\n",
    "Python is a high-level, interpreted, and general-purpose dynamic programming language that focuses on code readability. It generally has small programs when compared to Java and C. It was founded in 1991 by developer Guido Van Rossum. Python ranks among the most popular and fastest-growing languages in the world.\n",
    "\n",
    "Advantages: \n",
    "Presence of third-party modules \n",
    "Extensive support libraries(NumPy for numerical calculations, Pandas for data analytics, etc.) \n",
    "Open source and large active community base \n",
    "Versatile, Easy to read, learn and write\n",
    "User-friendly data structures \n",
    "High-level language \n",
    "Dynamically typed language(No need to mention data type based on the value assigned, it takes data type) \n",
    "Object-Oriented and Procedural  Programming language\n",
    "Portable and Interactive\n",
    "Ideal for prototypes – provide more functionality with less coding\n",
    "Highly Efficient(Python’s clean object-oriented design provides enhanced process control, and the language is equipped with excellent text processing and integration capabilities, as well as its own unit testing framework, which makes it more efficient.)\n",
    "Internet of Things(IoT) Opportunities\n",
    "Interpreted Language\n",
    "Portable across Operating systems \n",
    "\n",
    "Applications: \n",
    "GUI-based desktop applications\n",
    "Graphic design, image processing applications, Games, and Scientific/ computational Applications\n",
    "Web frameworks and applications \n",
    "Enterprise and Business applications \n",
    "Operating Systems \n",
    "Education\n",
    "Database Access\n",
    "Language Development \n",
    "Prototyping \n",
    "Software Development\n",
    " Data Science and Machine Learning\n",
    "Scripting\n",
    "\n",
    "Organizations using Python : \n",
    "Google(Components of Google spider and Search Engine) \n",
    "Yahoo(Maps) \n",
    "YouTube \n",
    "Mozilla \n",
    "Dropbox \n",
    "Microsoft \n",
    "Cisco \n",
    "Spotify \n",
    "Quora \n",
    "Facebook"
   ]
  },
  {
   "cell_type": "markdown",
   "id": "7704906a",
   "metadata": {},
   "source": [
    "### How is memory managed in python?\n",
    "Reference counting works by counting the number of times an object is referenced by other objects in the system. When references to an object are removed, the reference count for an object is decremented. When the reference count becomes zero, the object is deallocated.\n",
    "\n"
   ]
  },
  {
   "cell_type": "markdown",
   "id": "af921666",
   "metadata": {},
   "source": [
    "### Is Indentation required in python?\n",
    "Indentation is a very important concept of Python because without properly indenting the Python code, you will end up seeing IndentationError and the code will not get compiled.\n",
    "\n",
    "Python indentation refers to adding white space before a statement to a particular block of code. In another word, all the statements with the same space to the right, belong to the same code block."
   ]
  },
  {
   "cell_type": "code",
   "execution_count": null,
   "id": "425fee77",
   "metadata": {},
   "outputs": [],
   "source": []
  }
 ],
 "metadata": {
  "kernelspec": {
   "display_name": "Python 3 (ipykernel)",
   "language": "python",
   "name": "python3"
  },
  "language_info": {
   "codemirror_mode": {
    "name": "ipython",
    "version": 3
   },
   "file_extension": ".py",
   "mimetype": "text/x-python",
   "name": "python",
   "nbconvert_exporter": "python",
   "pygments_lexer": "ipython3",
   "version": "3.9.7"
  }
 },
 "nbformat": 4,
 "nbformat_minor": 5
}
